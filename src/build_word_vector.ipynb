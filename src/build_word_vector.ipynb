{
 "cells": [
  {
   "cell_type": "code",
   "execution_count": 3,
   "metadata": {
    "collapsed": true
   },
   "outputs": [
    {
     "name": "stdout",
     "output_type": "stream",
     "text": [
      "['I', 'like', 'Machine', 'Learning.']\n['I', 'like', 'TensorFlow.']\n['I', 'prefer', 'Python.']\nco_occurence_matrix follows:\n[[0. 1. 0. 1. 0. 1. 0. 0.]\n [1. 0. 0. 0. 1. 0. 0. 0.]\n [0. 0. 0. 1. 0. 0. 1. 0.]\n [1. 0. 1. 0. 0. 0. 0. 0.]\n [0. 1. 0. 0. 0. 0. 2. 1.]\n [1. 0. 0. 0. 0. 0. 0. 1.]\n [0. 0. 1. 0. 2. 0. 0. 0.]\n [0. 0. 0. 0. 1. 1. 0. 0.]]\n"
     ]
    },
    {
     "data": {
      "image/png": "[encoded data removed]",
      "text/plain": [
       "<Figure size 432x288 with 1 Axes>"
      ]
     },
     "metadata": {},
     "output_type": "display_data"
    }
   ],
   "source": [
    "import numpy as np\n",
    "import matplotlib.pyplot as plt\n",
    "\n",
    "corpus = ['I like Machine Learning.', 'I like TensorFlow.', 'I prefer Python.']\n",
    "\n",
    "corpus_words_unique = set()\n",
    "\n",
    "corpus_processed_docs = []\n",
    "for doc in corpus:\n",
    "    corpus_words_ = []\n",
    "    corpus_words = doc.split()\n",
    "    print(corpus_words)\n",
    "    for x in corpus_words:\n",
    "        if len(x.split('.')) == 2:\n",
    "            corpus_words_ += [x.split('.')[0]] + ['.']\n",
    "        else:\n",
    "            corpus_words_ += x.split('.')\n",
    "    corpus_processed_docs.append(corpus_words_)\n",
    "    corpus_words_unique.update(corpus_words_)\n",
    "\n",
    "corpus_words_unique = np.array(list(corpus_words_unique))\n",
    "\n",
    "co_occurence_matrix = np.zeros((len(corpus_words_unique), len(corpus_words_unique)))\n",
    "for corpus_words_ in corpus_processed_docs:\n",
    "    for i in range(1, len(corpus_words_)):\n",
    "        index_1 = np.argwhere(corpus_words_unique == corpus_words_[i])\n",
    "        index_2 = np.argwhere(corpus_words_unique == corpus_words_[i - 1])\n",
    "\n",
    "        co_occurence_matrix[index_1, index_2] += 1\n",
    "        co_occurence_matrix[index_2, index_1] += 1\n",
    "\n",
    "U, S, V = np.linalg.svd(co_occurence_matrix, full_matrices=False)\n",
    "print('co_occurence_matrix follows:')\n",
    "print(co_occurence_matrix)\n",
    "\n",
    "\n",
    "for i in range(len(corpus_words_unique)):\n",
    "    plt.text(U[i, 0], U[i, 1], corpus_words_unique[i])\n",
    "plt.xlim((-0.75, 0.75))\n",
    "plt.ylim((-0.75, 0.75))\n",
    "plt.show()\n"
   ]
  },
  {
   "cell_type": "code",
   "execution_count": null,
   "metadata": {},
   "outputs": [],
   "source": []
  }
 ],
 "metadata": {
  "kernelspec": {
   "display_name": "Python 2",
   "language": "python",
   "name": "python2"
  },
  "language_info": {
   "codemirror_mode": {
    "name": "ipython",
    "version": 2
   },
   "file_extension": ".py",
   "mimetype": "text/x-python",
   "name": "python",
   "nbconvert_exporter": "python",
   "pygments_lexer": "ipython2",
   "version": "2.7.6"
  }
 },
 "nbformat": 4,
 "nbformat_minor": 0
}
